{
  "nbformat": 4,
  "nbformat_minor": 0,
  "metadata": {
    "colab": {
      "provenance": [],
      "authorship_tag": "ABX9TyOae3qxME2gzRnSaDfzCcuA",
      "include_colab_link": true
    },
    "kernelspec": {
      "name": "python3",
      "display_name": "Python 3"
    },
    "language_info": {
      "name": "python"
    }
  },
  "cells": [
    {
      "cell_type": "markdown",
      "metadata": {
        "id": "view-in-github",
        "colab_type": "text"
      },
      "source": [
        "<a href=\"https://colab.research.google.com/github/srivastavanishtha/amazon-retail-case-study/blob/main/Retail_Analysis_Workshop.ipynb\" target=\"_parent\"><img src=\"https://colab.research.google.com/assets/colab-badge.svg\" alt=\"Open In Colab\"/></a>"
      ]
    },
    {
      "cell_type": "markdown",
      "source": [
        "# Pipeline Code Description\n",
        "\n",
        "#### 1. Data Loading and Exploration:\n",
        "- The code imports the necessary libraries, loads the dataset from a csv, and prints the first few rows and information about the dataset to understand its structure."
      ],
      "metadata": {
        "id": "4lku9WTy9mGT"
      }
    },
    {
      "cell_type": "code",
      "source": [
        "# Step 1: Data Exploration\n",
        "import pandas as pd\n",
        "\n",
        "# Load the dataset from a CSV file\n",
        "data = pd.read_csv('amazon_product_data.csv')\n",
        "\n",
        "# Display the first few rows and information about the dataset\n",
        "print(\"First 5 rows of the dataset:\")\n",
        "print(data.head())\n",
        "print(\"\\nDataset Information:\")\n",
        "print(data.info())"
      ],
      "metadata": {
        "colab": {
          "base_uri": "https://localhost:8080/"
        },
        "collapsed": true,
        "id": "kEWFQyWm6flz",
        "outputId": "997931a6-99a1-48d5-c16f-6cab2b645861"
      },
      "execution_count": 1,
      "outputs": [
        {
          "output_type": "stream",
          "name": "stdout",
          "text": [
            "First 5 rows of the dataset:\n",
            "   product_id                                       product_name  \\\n",
            "0  B07JW9H4J1  Wayona Nylon Braided USB to Lightning Fast Cha...   \n",
            "1  B098NS6PVG  Ambrane Unbreakable 60W / 3A Fast Charging 1.5...   \n",
            "2  B096MSW6CT  Sounce Fast Phone Charging Cable & Data Sync U...   \n",
            "3  B08HDJ86NZ  boAt Deuce USB 300 2 in 1 Type-C & Micro USB S...   \n",
            "4  B08CF3B7N1  Portronics Konnect L 1.2M Fast Charging 3A 8 P...   \n",
            "\n",
            "                                            category discounted_price  \\\n",
            "0  Computers&Accessories|Accessories&Peripherals|...             ₹399   \n",
            "1  Computers&Accessories|Accessories&Peripherals|...             ₹199   \n",
            "2  Computers&Accessories|Accessories&Peripherals|...             ₹199   \n",
            "3  Computers&Accessories|Accessories&Peripherals|...             ₹329   \n",
            "4  Computers&Accessories|Accessories&Peripherals|...             ₹154   \n",
            "\n",
            "  actual_price discount_percentage rating rating_count  \\\n",
            "0       ₹1,099                 64%    4.2       24,269   \n",
            "1         ₹349                 43%    4.0       43,994   \n",
            "2       ₹1,899                 90%    3.9        7,928   \n",
            "3         ₹699                 53%    4.2       94,363   \n",
            "4         ₹399                 61%    4.2       16,905   \n",
            "\n",
            "                                       about_product  \\\n",
            "0  High Compatibility : Compatible With iPhone 12...   \n",
            "1  Compatible with all Type C enabled devices, be...   \n",
            "2  【 Fast Charger& Data Sync】-With built-in safet...   \n",
            "3  The boAt Deuce USB 300 2 in 1 cable is compati...   \n",
            "4  [CHARGE & SYNC FUNCTION]- This cable comes wit...   \n",
            "\n",
            "                                             user_id  \\\n",
            "0  AG3D6O4STAQKAY2UVGEUV46KN35Q,AHMY5CWJMMK5BJRBB...   \n",
            "1  AECPFYFQVRUWC3KGNLJIOREFP5LQ,AGYYVPDD7YG7FYNBX...   \n",
            "2  AGU3BBQ2V2DDAMOAKGFAWDDQ6QHA,AESFLDV2PT363T2AQ...   \n",
            "3  AEWAZDZZJLQUYVOVGBEUKSLXHQ5A,AG5HTSFRRE6NL3M5S...   \n",
            "4  AE3Q6KSUK5P75D5HFYHCRAOLODSA,AFUGIFH5ZAFXRDSZH...   \n",
            "\n",
            "                                           user_name  \\\n",
            "0  Manav,Adarsh gupta,Sundeep,S.Sayeed Ahmed,jasp...   \n",
            "1  ArdKn,Nirbhay kumar,Sagar Viswanathan,Asp,Plac...   \n",
            "2  Kunal,Himanshu,viswanath,sai niharka,saqib mal...   \n",
            "3  Omkar dhale,JD,HEMALATHA,Ajwadh a.,amar singh ...   \n",
            "4  rahuls6099,Swasat Borah,Ajay Wadke,Pranali,RVK...   \n",
            "\n",
            "                                           review_id  \\\n",
            "0  R3HXWT0LRP0NMF,R2AJM3LFTLZHFO,R6AQJGUP6P86,R1K...   \n",
            "1  RGIQEG07R9HS2,R1SMWZQ86XIN8U,R2J3Y1WL29GWDE,RY...   \n",
            "2  R3J3EQQ9TZI5ZJ,R3E7WBGK7ID0KV,RWU79XKQ6I1QF,R2...   \n",
            "3  R3EEUZKKK9J36I,R3HJVYCLYOY554,REDECAZ7AMPQC,R1...   \n",
            "4  R1BP4L2HH9TFUP,R16PVJEXKV6QZS,R2UPDB81N66T4P,R...   \n",
            "\n",
            "                                        review_title  \\\n",
            "0  Satisfied,Charging is really fast,Value for mo...   \n",
            "1  A Good Braided Cable for Your Type C Device,Go...   \n",
            "2  Good speed for earlier versions,Good Product,W...   \n",
            "3  Good product,Good one,Nice,Really nice product...   \n",
            "4  As good as original,Decent,Good one for second...   \n",
            "\n",
            "                                      review_content  \\\n",
            "0  Looks durable Charging is fine tooNo complains...   \n",
            "1  I ordered this cable to connect my phone to An...   \n",
            "2  Not quite durable and sturdy,https://m.media-a...   \n",
            "3  Good product,long wire,Charges good,Nice,I bou...   \n",
            "4  Bought this instead of original apple, does th...   \n",
            "\n",
            "                                            img_link  \\\n",
            "0  https://m.media-amazon.com/images/W/WEBP_40237...   \n",
            "1  https://m.media-amazon.com/images/W/WEBP_40237...   \n",
            "2  https://m.media-amazon.com/images/W/WEBP_40237...   \n",
            "3  https://m.media-amazon.com/images/I/41V5FtEWPk...   \n",
            "4  https://m.media-amazon.com/images/W/WEBP_40237...   \n",
            "\n",
            "                                        product_link  \n",
            "0  https://www.amazon.in/Wayona-Braided-WN3LG1-Sy...  \n",
            "1  https://www.amazon.in/Ambrane-Unbreakable-Char...  \n",
            "2  https://www.amazon.in/Sounce-iPhone-Charging-C...  \n",
            "3  https://www.amazon.in/Deuce-300-Resistant-Tang...  \n",
            "4  https://www.amazon.in/Portronics-Konnect-POR-1...  \n",
            "\n",
            "Dataset Information:\n",
            "<class 'pandas.core.frame.DataFrame'>\n",
            "RangeIndex: 1465 entries, 0 to 1464\n",
            "Data columns (total 16 columns):\n",
            " #   Column               Non-Null Count  Dtype \n",
            "---  ------               --------------  ----- \n",
            " 0   product_id           1465 non-null   object\n",
            " 1   product_name         1465 non-null   object\n",
            " 2   category             1465 non-null   object\n",
            " 3   discounted_price     1465 non-null   object\n",
            " 4   actual_price         1465 non-null   object\n",
            " 5   discount_percentage  1465 non-null   object\n",
            " 6   rating               1465 non-null   object\n",
            " 7   rating_count         1463 non-null   object\n",
            " 8   about_product        1465 non-null   object\n",
            " 9   user_id              1465 non-null   object\n",
            " 10  user_name            1465 non-null   object\n",
            " 11  review_id            1465 non-null   object\n",
            " 12  review_title         1465 non-null   object\n",
            " 13  review_content       1465 non-null   object\n",
            " 14  img_link             1465 non-null   object\n",
            " 15  product_link         1465 non-null   object\n",
            "dtypes: object(16)\n",
            "memory usage: 183.2+ KB\n",
            "None\n"
          ]
        }
      ]
    },
    {
      "cell_type": "markdown",
      "source": [
        "#### 2.1 Handling Missing Data:\n",
        "- The code checks for missing values in the dataset. It fills missing ratings with the median value and replaces missing review contents with \"No Review\"."
      ],
      "metadata": {
        "id": "77FA5FGq90Y_"
      }
    },
    {
      "cell_type": "code",
      "source": [
        "# Step 2: Data Preprocessing\n",
        "# Check for missing values in each column\n",
        "missing_data = data.isnull().sum()\n",
        "print(\"\\nMissing values in each column:\")\n",
        "print(missing_data)"
      ],
      "metadata": {
        "colab": {
          "base_uri": "https://localhost:8080/"
        },
        "id": "Y6kyImMf92iO",
        "outputId": "e8376c7e-9a9f-4834-ec36-83018dc41f0c"
      },
      "execution_count": 2,
      "outputs": [
        {
          "output_type": "stream",
          "name": "stdout",
          "text": [
            "\n",
            "Missing values in each column:\n",
            "product_id             0\n",
            "product_name           0\n",
            "category               0\n",
            "discounted_price       0\n",
            "actual_price           0\n",
            "discount_percentage    0\n",
            "rating                 0\n",
            "rating_count           2\n",
            "about_product          0\n",
            "user_id                0\n",
            "user_name              0\n",
            "review_id              0\n",
            "review_title           0\n",
            "review_content         0\n",
            "img_link               0\n",
            "product_link           0\n",
            "dtype: int64\n"
          ]
        }
      ]
    },
    {
      "cell_type": "code",
      "source": [
        "# Filling missing values\n",
        "# Filling 'rating' with its median as it is a numerical column\n",
        "# Convert 'rating' column to numeric type, handling errors\n",
        "data['rating'] = pd.to_numeric(data['rating'], errors='coerce')\n",
        "data['rating'].fillna(data['rating'].median(), inplace=True)\n",
        "\n",
        "# Filling 'review_content' with \"No Review\" for missing reviews\n",
        "data['review_content'].fillna(\"No Review\", inplace=True)"
      ],
      "metadata": {
        "id": "FJOIim0X-iOl"
      },
      "execution_count": 3,
      "outputs": []
    },
    {
      "cell_type": "markdown",
      "source": [
        "#### 2.2. Text Cleaning and Translation:\n",
        "- A function is defined to clean the review text by removing special characters and translating any non-English text to English using TextBlob. This ensures uniformity in the text data."
      ],
      "metadata": {
        "id": "DpQMhXHR-GsM"
      }
    },
    {
      "cell_type": "code",
      "source": [
        "# Importing required libraries for text processing\n",
        "import re\n",
        "from textblob import TextBlob\n",
        "\n",
        "# Function to clean and translate text\n",
        "def clean_and_translate(text):\n",
        "    # Remove special characters and numbers, retaining only alphabetic characters and spaces\n",
        "    text = re.sub(r'[^a-zA-Z\\s]', '', text)\n",
        "\n",
        "    try:\n",
        "        # Attempt to translate the text\n",
        "        translated = str(TextBlob(text).translate(to='en'))\n",
        "    except AttributeError:\n",
        "        # If translation fails and returns a list, join it into a string\n",
        "        # or handle it in another way that makes sense for your data\n",
        "        if isinstance(text, list):\n",
        "            translated = ' '.join(text)\n",
        "        else:\n",
        "            # If it's not a list and still caused an error,\n",
        "            # you might want to keep the original text or handle it differently\n",
        "            translated = text\n",
        "\n",
        "    return translated\n",
        "\n",
        "# Apply cleaning and translation on review_content\n",
        "data['review_content'] = data['review_content'].apply(clean_and_translate)"
      ],
      "metadata": {
        "id": "hAGSqIm37Mxq"
      },
      "execution_count": 4,
      "outputs": []
    },
    {
      "cell_type": "markdown",
      "source": [
        "#### 3. Sentiment Analysis:\n",
        "- Another function is defined to analyze the sentiment of each review content, categorizing them into positive, neutral, or negative based on the sentiment polarity score."
      ],
      "metadata": {
        "id": "Xtr_luFI-PBt"
      }
    },
    {
      "cell_type": "code",
      "source": [
        "# Step 3: Sentiment Analysis\n",
        "def get_sentiment(text):\n",
        "    # Analyze sentiment polarity: positive (>0), neutral (=0), negative (<0)\n",
        "    analysis = TextBlob(text)\n",
        "    if analysis.sentiment.polarity > 0:\n",
        "        return 'Positive'\n",
        "    elif analysis.sentiment.polarity == 0:\n",
        "        return 'Neutral'\n",
        "    else:\n",
        "        return 'Negative'\n",
        "\n",
        "# Apply sentiment analysis function to the review content\n",
        "data['sentiment'] = data['review_content'].apply(get_sentiment)"
      ],
      "metadata": {
        "id": "HRe5wThF7SKn"
      },
      "execution_count": 5,
      "outputs": []
    },
    {
      "cell_type": "markdown",
      "source": [
        "#### 4. Data Visualization:\n",
        "- The code uses Seaborn to visualize the distribution of sentiments across the dataset, providing insights into customer feedback trends."
      ],
      "metadata": {
        "id": "6WQqHU0g-1y_"
      }
    },
    {
      "cell_type": "code",
      "source": [
        "# Step 4: Visualization\n",
        "import seaborn as sns\n",
        "import matplotlib.pyplot as plt\n",
        "\n",
        "# Plot sentiment distribution\n",
        "plt.figure(figsize=(8, 5))\n",
        "sns.countplot(x='sentiment', data=data)\n",
        "plt.title('Sentiment Distribution of Reviews')\n",
        "plt.xlabel('Sentiment')\n",
        "plt.ylabel('Count')\n",
        "plt.show()"
      ],
      "metadata": {
        "colab": {
          "base_uri": "https://localhost:8080/",
          "height": 487
        },
        "id": "IxlwBfs178oI",
        "outputId": "df530125-15bb-4651-8cc8-aba2c7cbb308"
      },
      "execution_count": 6,
      "outputs": [
        {
          "output_type": "display_data",
          "data": {
            "text/plain": [
              "<Figure size 800x500 with 1 Axes>"
            ],
            "image/png": "[encoded data removed]"
          },
          "metadata": {}
        }
      ]
    },
    {
      "cell_type": "markdown",
      "source": [
        "\n",
        "#### 5. Modeling:\n",
        "- The sentiment labels are encoded into numerical format for machine learning. The dataset is split into training and testing sets. A tokenizer converts the text reviews into sequences of integers, and these sequences are padded to ensure uniform input size.\n",
        "- An LSTM neural network model is constructed, compiled, and trained on the padded sequences, which allows it to learn from the sentiment of the reviews."
      ],
      "metadata": {
        "id": "VvbSM6E3-8uo"
      }
    },
    {
      "cell_type": "code",
      "source": [
        "# !pip install textblob keras\n",
        "# The keras.preprocessing.text module has changed its location from keras library.\n",
        "# Now, it resides within tensorflow.keras.preprocessing module."
      ],
      "metadata": {
        "id": "4ZY9mWXd8Mol"
      },
      "execution_count": 7,
      "outputs": []
    },
    {
      "cell_type": "code",
      "source": [
        "# Step 5: Modeling\n",
        "from sklearn.model_selection import train_test_split\n",
        "from sklearn.preprocessing import LabelEncoder\n",
        "from keras.models import Sequential\n",
        "from keras.layers import Dense, Embedding, LSTM, SpatialDropout1D\n",
        "# Import Tokenizer from tensorflow.keras.preprocessing.text\n",
        "from tensorflow.keras.preprocessing.text import Tokenizer\n",
        "from tensorflow.keras.preprocessing.sequence import pad_sequences # Import pad_sequences from tensorflow.keras.preprocessing.sequence\n",
        "\n",
        "# Encode the sentiment labels to numerical format\n",
        "label_encoder = LabelEncoder()\n",
        "data['sentiment_encoded'] = label_encoder.fit_transform(data['sentiment'])\n",
        "\n",
        "# Splitting the dataset into training and testing sets (80% train, 20% test)\n",
        "X = data['review_content']  # Features: review content\n",
        "y = data['sentiment_encoded']  # Labels: encoded sentiment\n",
        "X_train, X_test, y_train, y_test = train_test_split(X, y, test_size=0.2, random_state=42)\n",
        "\n",
        "# Tokenization: Convert text to sequences of integers\n",
        "tokenizer = Tokenizer(num_words=5000)  # Limit to the top 5000 words\n",
        "tokenizer.fit_on_texts(X_train)  # Fit the tokenizer on training data\n",
        "X_train_seq = tokenizer.texts_to_sequences(X_train)  # Convert training reviews to sequences\n",
        "X_test_seq = tokenizer.texts_to_sequences(X_test)  # Convert testing reviews to sequences\n",
        "\n",
        "# Padding sequences to ensure uniform input size (max length of 100)\n",
        "X_train_pad = pad_sequences(X_train_seq, maxlen=100)\n",
        "X_test_pad = pad_sequences(X_test_seq, maxlen=100)\n",
        "\n",
        "# Building a simple LSTM model\n",
        "model = Sequential()\n",
        "model.add(Embedding(5000, 128, input_length=100))  # Embedding layer for word representation\n",
        "model.add(SpatialDropout1D(0.2))  # Dropout to prevent overfitting\n",
        "model.add(LSTM(100, dropout=0.2, recurrent_dropout=0.2))  # LSTM layer with dropout\n",
        "model.add(Dense(3, activation='softmax'))  # Output layer for 3 classes (Positive, Neutral, Negative)\n",
        "\n",
        "# Compile the model with loss function and optimizer\n",
        "model.compile(loss='sparse_categorical_crossentropy', optimizer='adam', metrics=['accuracy'])\n",
        "\n",
        "# Training the model\n",
        "history = model.fit(X_train_pad, y_train, epochs=5, batch_size=64, validation_data=(X_test_pad, y_test))\n",
        "\n",
        "# Step 6: Insights and Conclusion\n",
        "print(\"\\nModel Training Complete!\")"
      ],
      "metadata": {
        "colab": {
          "base_uri": "https://localhost:8080/"
        },
        "id": "7yGm0QZ68AgA",
        "outputId": "0b91b541-9dca-4e38-ef9c-23423a001f79"
      },
      "execution_count": 8,
      "outputs": [
        {
          "output_type": "stream",
          "name": "stdout",
          "text": [
            "Epoch 1/5\n"
          ]
        },
        {
          "output_type": "stream",
          "name": "stderr",
          "text": [
            "/usr/local/lib/python3.10/dist-packages/keras/src/layers/core/embedding.py:90: UserWarning: Argument `input_length` is deprecated. Just remove it.\n",
            "  warnings.warn(\n"
          ]
        },
        {
          "output_type": "stream",
          "name": "stdout",
          "text": [
            "\u001b[1m19/19\u001b[0m \u001b[32m━━━━━━━━━━━━━━━━━━━━\u001b[0m\u001b[37m\u001b[0m \u001b[1m8s\u001b[0m 284ms/step - accuracy: 0.8509 - loss: 0.8425 - val_accuracy: 0.9898 - val_loss: 0.0676\n",
            "Epoch 2/5\n",
            "\u001b[1m19/19\u001b[0m \u001b[32m━━━━━━━━━━━━━━━━━━━━\u001b[0m\u001b[37m\u001b[0m \u001b[1m8s\u001b[0m 168ms/step - accuracy: 0.9798 - loss: 0.1233 - val_accuracy: 0.9898 - val_loss: 0.0620\n",
            "Epoch 3/5\n",
            "\u001b[1m19/19\u001b[0m \u001b[32m━━━━━━━━━━━━━━━━━━━━\u001b[0m\u001b[37m\u001b[0m \u001b[1m5s\u001b[0m 172ms/step - accuracy: 0.9822 - loss: 0.0945 - val_accuracy: 0.9898 - val_loss: 0.0593\n",
            "Epoch 4/5\n",
            "\u001b[1m19/19\u001b[0m \u001b[32m━━━━━━━━━━━━━━━━━━━━\u001b[0m\u001b[37m\u001b[0m \u001b[1m5s\u001b[0m 278ms/step - accuracy: 0.9776 - loss: 0.1126 - val_accuracy: 0.9898 - val_loss: 0.0582\n",
            "Epoch 5/5\n",
            "\u001b[1m19/19\u001b[0m \u001b[32m━━━━━━━━━━━━━━━━━━━━\u001b[0m\u001b[37m\u001b[0m \u001b[1m8s\u001b[0m 174ms/step - accuracy: 0.9800 - loss: 0.1015 - val_accuracy: 0.9898 - val_loss: 0.0593\n",
            "\n",
            "Model Training Complete!\n"
          ]
        }
      ]
    },
    {
      "cell_type": "code",
      "source": [],
      "metadata": {
        "id": "ghAfkJaX8ExW"
      },
      "execution_count": 8,
      "outputs": []
    },
    {
      "cell_type": "markdown",
      "source": [],
      "metadata": {
        "id": "Y5SYQrdB87uy"
      }
    }
  ]
}